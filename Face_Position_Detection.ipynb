{
  "nbformat": 4,
  "nbformat_minor": 0,
  "metadata": {
    "colab": {
      "provenance": []
    },
    "kernelspec": {
      "name": "python3",
      "display_name": "Python 3"
    },
    "language_info": {
      "name": "python"
    }
  },
  "cells": [
    {
      "cell_type": "code",
      "metadata": {
        "id": "yrgnIVNE5mCC"
      },
      "source": [],
      "execution_count": null,
      "outputs": []
    },
    {
      "cell_type": "markdown",
      "metadata": {
        "id": "jrbElLT25iDb"
      },
      "source": [
        "**Face Position Detection**"
      ]
    },
    {
      "cell_type": "code",
      "metadata": {
        "colab": {
          "base_uri": "https://localhost:8080/"
        },
        "id": "GXQGz76orB81",
        "outputId": "bf6c0716-a299-40e1-fc3d-941fe3c2956b"
      },
      "source": [
        "import numpy as np\n",
        "import pandas as pd\n",
        "from matplotlib import pyplot as plt\n",
        "import random\n",
        "driv_data = pd.read_csv('drivPoints.txt')\n",
        "display(driv_data)"
      ],
      "execution_count": null,
      "outputs": [
        {
          "output_type": "display_data",
          "data": {
            "text/html": [
              "<div>\n",
              "<style scoped>\n",
              "    .dataframe tbody tr th:only-of-type {\n",
              "        vertical-align: middle;\n",
              "    }\n",
              "\n",
              "    .dataframe tbody tr th {\n",
              "        vertical-align: top;\n",
              "    }\n",
              "\n",
              "    .dataframe thead th {\n",
              "        text-align: right;\n",
              "    }\n",
              "</style>\n",
              "<table border=\"1\" class=\"dataframe\">\n",
              "  <thead>\n",
              "    <tr style=\"text-align: right;\">\n",
              "      <th></th>\n",
              "      <th>fileName</th>\n",
              "      <th>subject</th>\n",
              "      <th>imgNum</th>\n",
              "      <th>label</th>\n",
              "      <th>ang</th>\n",
              "      <th>xF</th>\n",
              "      <th>yF</th>\n",
              "      <th>wF</th>\n",
              "      <th>hF</th>\n",
              "      <th>xRE</th>\n",
              "      <th>yRE</th>\n",
              "      <th>xLE</th>\n",
              "      <th>yLE</th>\n",
              "      <th>xN</th>\n",
              "      <th>yN</th>\n",
              "      <th>xRM</th>\n",
              "      <th>yRM</th>\n",
              "      <th>xLM</th>\n",
              "      <th>yLM</th>\n",
              "    </tr>\n",
              "  </thead>\n",
              "  <tbody>\n",
              "    <tr>\n",
              "      <th>0</th>\n",
              "      <td>20130529_01_Driv_001_f</td>\n",
              "      <td>1</td>\n",
              "      <td>1</td>\n",
              "      <td>2</td>\n",
              "      <td>0</td>\n",
              "      <td>292</td>\n",
              "      <td>209</td>\n",
              "      <td>100</td>\n",
              "      <td>112</td>\n",
              "      <td>323</td>\n",
              "      <td>232</td>\n",
              "      <td>367</td>\n",
              "      <td>231</td>\n",
              "      <td>353</td>\n",
              "      <td>254</td>\n",
              "      <td>332</td>\n",
              "      <td>278</td>\n",
              "      <td>361</td>\n",
              "      <td>278</td>\n",
              "    </tr>\n",
              "    <tr>\n",
              "      <th>1</th>\n",
              "      <td>20130529_01_Driv_002_f</td>\n",
              "      <td>1</td>\n",
              "      <td>2</td>\n",
              "      <td>2</td>\n",
              "      <td>0</td>\n",
              "      <td>286</td>\n",
              "      <td>200</td>\n",
              "      <td>109</td>\n",
              "      <td>128</td>\n",
              "      <td>324</td>\n",
              "      <td>235</td>\n",
              "      <td>366</td>\n",
              "      <td>235</td>\n",
              "      <td>353</td>\n",
              "      <td>258</td>\n",
              "      <td>333</td>\n",
              "      <td>281</td>\n",
              "      <td>361</td>\n",
              "      <td>281</td>\n",
              "    </tr>\n",
              "    <tr>\n",
              "      <th>2</th>\n",
              "      <td>20130529_01_Driv_003_f</td>\n",
              "      <td>1</td>\n",
              "      <td>3</td>\n",
              "      <td>2</td>\n",
              "      <td>0</td>\n",
              "      <td>290</td>\n",
              "      <td>204</td>\n",
              "      <td>105</td>\n",
              "      <td>121</td>\n",
              "      <td>325</td>\n",
              "      <td>240</td>\n",
              "      <td>367</td>\n",
              "      <td>239</td>\n",
              "      <td>351</td>\n",
              "      <td>260</td>\n",
              "      <td>334</td>\n",
              "      <td>282</td>\n",
              "      <td>362</td>\n",
              "      <td>282</td>\n",
              "    </tr>\n",
              "    <tr>\n",
              "      <th>3</th>\n",
              "      <td>20130529_01_Driv_004_f</td>\n",
              "      <td>1</td>\n",
              "      <td>4</td>\n",
              "      <td>2</td>\n",
              "      <td>0</td>\n",
              "      <td>287</td>\n",
              "      <td>202</td>\n",
              "      <td>112</td>\n",
              "      <td>118</td>\n",
              "      <td>325</td>\n",
              "      <td>230</td>\n",
              "      <td>369</td>\n",
              "      <td>230</td>\n",
              "      <td>353</td>\n",
              "      <td>253</td>\n",
              "      <td>335</td>\n",
              "      <td>274</td>\n",
              "      <td>362</td>\n",
              "      <td>275</td>\n",
              "    </tr>\n",
              "    <tr>\n",
              "      <th>4</th>\n",
              "      <td>20130529_01_Driv_005_f</td>\n",
              "      <td>1</td>\n",
              "      <td>5</td>\n",
              "      <td>2</td>\n",
              "      <td>0</td>\n",
              "      <td>290</td>\n",
              "      <td>193</td>\n",
              "      <td>104</td>\n",
              "      <td>119</td>\n",
              "      <td>325</td>\n",
              "      <td>224</td>\n",
              "      <td>366</td>\n",
              "      <td>225</td>\n",
              "      <td>353</td>\n",
              "      <td>244</td>\n",
              "      <td>333</td>\n",
              "      <td>268</td>\n",
              "      <td>363</td>\n",
              "      <td>268</td>\n",
              "    </tr>\n",
              "    <tr>\n",
              "      <th>...</th>\n",
              "      <td>...</td>\n",
              "      <td>...</td>\n",
              "      <td>...</td>\n",
              "      <td>...</td>\n",
              "      <td>...</td>\n",
              "      <td>...</td>\n",
              "      <td>...</td>\n",
              "      <td>...</td>\n",
              "      <td>...</td>\n",
              "      <td>...</td>\n",
              "      <td>...</td>\n",
              "      <td>...</td>\n",
              "      <td>...</td>\n",
              "      <td>...</td>\n",
              "      <td>...</td>\n",
              "      <td>...</td>\n",
              "      <td>...</td>\n",
              "      <td>...</td>\n",
              "      <td>...</td>\n",
              "    </tr>\n",
              "    <tr>\n",
              "      <th>601</th>\n",
              "      <td>20130530_04_Driv_086_f</td>\n",
              "      <td>4</td>\n",
              "      <td>86</td>\n",
              "      <td>2</td>\n",
              "      <td>-15</td>\n",
              "      <td>278</td>\n",
              "      <td>183</td>\n",
              "      <td>128</td>\n",
              "      <td>141</td>\n",
              "      <td>307</td>\n",
              "      <td>218</td>\n",
              "      <td>354</td>\n",
              "      <td>210</td>\n",
              "      <td>330</td>\n",
              "      <td>247</td>\n",
              "      <td>324</td>\n",
              "      <td>273</td>\n",
              "      <td>356</td>\n",
              "      <td>266</td>\n",
              "    </tr>\n",
              "    <tr>\n",
              "      <th>602</th>\n",
              "      <td>20130530_04_Driv_087_lr</td>\n",
              "      <td>4</td>\n",
              "      <td>87</td>\n",
              "      <td>1</td>\n",
              "      <td>-30</td>\n",
              "      <td>268</td>\n",
              "      <td>186</td>\n",
              "      <td>128</td>\n",
              "      <td>134</td>\n",
              "      <td>296</td>\n",
              "      <td>222</td>\n",
              "      <td>344</td>\n",
              "      <td>212</td>\n",
              "      <td>319</td>\n",
              "      <td>247</td>\n",
              "      <td>316</td>\n",
              "      <td>274</td>\n",
              "      <td>347</td>\n",
              "      <td>269</td>\n",
              "    </tr>\n",
              "    <tr>\n",
              "      <th>603</th>\n",
              "      <td>20130530_04_Driv_088_lr</td>\n",
              "      <td>4</td>\n",
              "      <td>88</td>\n",
              "      <td>1</td>\n",
              "      <td>-30</td>\n",
              "      <td>264</td>\n",
              "      <td>187</td>\n",
              "      <td>127</td>\n",
              "      <td>131</td>\n",
              "      <td>287</td>\n",
              "      <td>220</td>\n",
              "      <td>334</td>\n",
              "      <td>211</td>\n",
              "      <td>304</td>\n",
              "      <td>247</td>\n",
              "      <td>305</td>\n",
              "      <td>272</td>\n",
              "      <td>337</td>\n",
              "      <td>270</td>\n",
              "    </tr>\n",
              "    <tr>\n",
              "      <th>604</th>\n",
              "      <td>20130530_04_Driv_089_f</td>\n",
              "      <td>4</td>\n",
              "      <td>89</td>\n",
              "      <td>2</td>\n",
              "      <td>-15</td>\n",
              "      <td>264</td>\n",
              "      <td>175</td>\n",
              "      <td>143</td>\n",
              "      <td>136</td>\n",
              "      <td>295</td>\n",
              "      <td>207</td>\n",
              "      <td>345</td>\n",
              "      <td>200</td>\n",
              "      <td>320</td>\n",
              "      <td>234</td>\n",
              "      <td>314</td>\n",
              "      <td>261</td>\n",
              "      <td>351</td>\n",
              "      <td>251</td>\n",
              "    </tr>\n",
              "    <tr>\n",
              "      <th>605</th>\n",
              "      <td>20130530_04_Driv_090_f</td>\n",
              "      <td>4</td>\n",
              "      <td>90</td>\n",
              "      <td>2</td>\n",
              "      <td>0</td>\n",
              "      <td>266</td>\n",
              "      <td>170</td>\n",
              "      <td>141</td>\n",
              "      <td>139</td>\n",
              "      <td>303</td>\n",
              "      <td>206</td>\n",
              "      <td>354</td>\n",
              "      <td>198</td>\n",
              "      <td>331</td>\n",
              "      <td>229</td>\n",
              "      <td>319</td>\n",
              "      <td>255</td>\n",
              "      <td>362</td>\n",
              "      <td>247</td>\n",
              "    </tr>\n",
              "  </tbody>\n",
              "</table>\n",
              "<p>606 rows × 19 columns</p>\n",
              "</div>"
            ],
            "text/plain": [
              "                    fileName  subject  imgNum  label  ...  xRM  yRM  xLM  yLM\n",
              "0    20130529_01_Driv_001_f         1       1      2  ...  332  278  361  278\n",
              "1    20130529_01_Driv_002_f         1       2      2  ...  333  281  361  281\n",
              "2    20130529_01_Driv_003_f         1       3      2  ...  334  282  362  282\n",
              "3    20130529_01_Driv_004_f         1       4      2  ...  335  274  362  275\n",
              "4    20130529_01_Driv_005_f         1       5      2  ...  333  268  363  268\n",
              "..                       ...      ...     ...    ...  ...  ...  ...  ...  ...\n",
              "601  20130530_04_Driv_086_f         4      86      2  ...  324  273  356  266\n",
              "602  20130530_04_Driv_087_lr        4      87      1  ...  316  274  347  269\n",
              "603  20130530_04_Driv_088_lr        4      88      1  ...  305  272  337  270\n",
              "604  20130530_04_Driv_089_f         4      89      2  ...  314  261  351  251\n",
              "605  20130530_04_Driv_090_f         4      90      2  ...  319  255  362  247\n",
              "\n",
              "[606 rows x 19 columns]"
            ]
          },
          "metadata": {}
        }
      ]
    },
    {
      "cell_type": "code",
      "metadata": {
        "colab": {
          "base_uri": "https://localhost:8080/"
        },
        "id": "I2hHjoFurWIQ",
        "outputId": "a6bdffaf-dfd2-4bfb-ecee-ff8c54a46a25"
      },
      "source": [
        "print('Angles:', driv_data['ang'].unique())\n",
        "print('Label:', driv_data['label'].unique())\n",
        "print(\"/*************/\")\n",
        "display(driv_data.corr()['label'])"
      ],
      "execution_count": null,
      "outputs": [
        {
          "output_type": "stream",
          "name": "stdout",
          "text": [
            "Angles: [  0 -15 -30 -45  15  30  45]\n",
            "Label: [2 1 3]\n",
            "/*************/\n"
          ]
        },
        {
          "output_type": "display_data",
          "data": {
            "text/plain": [
              "subject    0.031872\n",
              "imgNum     0.050105\n",
              "label      1.000000\n",
              "ang        0.785522\n",
              "xF         0.408662\n",
              "yF        -0.049579\n",
              "wF        -0.007389\n",
              "hF         0.086531\n",
              "xRE        0.533790\n",
              "yRE       -0.058692\n",
              "xLE        0.485336\n",
              "yLE       -0.039557\n",
              "xN         0.588441\n",
              "yN        -0.061158\n",
              "xRM        0.567880\n",
              "yRM       -0.056930\n",
              "xLM        0.491974\n",
              "yLM       -0.037165\n",
              "Name: label, dtype: float64"
            ]
          },
          "metadata": {}
        }
      ]
    },
    {
      "cell_type": "code",
      "metadata": {
        "colab": {
          "base_uri": "https://localhost:8080/"
        },
        "id": "5NfXEOPd9v4N",
        "outputId": "a79dbf1b-5a10-4082-b17d-7111b96af98b"
      },
      "source": [
        "features=['xF', 'xRE', 'xLE', 'xN', 'xRM', 'xLM']\n",
        "driv_df = driv_data[features].copy()\n",
        "driv_df['X0'] = 1\n",
        "driv_df['label'] = driv_data['label'].copy()\n",
        "display(driv_df)"
      ],
      "execution_count": null,
      "outputs": [
        {
          "output_type": "display_data",
          "data": {
            "text/html": [
              "<div>\n",
              "<style scoped>\n",
              "    .dataframe tbody tr th:only-of-type {\n",
              "        vertical-align: middle;\n",
              "    }\n",
              "\n",
              "    .dataframe tbody tr th {\n",
              "        vertical-align: top;\n",
              "    }\n",
              "\n",
              "    .dataframe thead th {\n",
              "        text-align: right;\n",
              "    }\n",
              "</style>\n",
              "<table border=\"1\" class=\"dataframe\">\n",
              "  <thead>\n",
              "    <tr style=\"text-align: right;\">\n",
              "      <th></th>\n",
              "      <th>xF</th>\n",
              "      <th>xRE</th>\n",
              "      <th>xLE</th>\n",
              "      <th>xN</th>\n",
              "      <th>xRM</th>\n",
              "      <th>xLM</th>\n",
              "      <th>X0</th>\n",
              "      <th>label</th>\n",
              "    </tr>\n",
              "  </thead>\n",
              "  <tbody>\n",
              "    <tr>\n",
              "      <th>0</th>\n",
              "      <td>292</td>\n",
              "      <td>323</td>\n",
              "      <td>367</td>\n",
              "      <td>353</td>\n",
              "      <td>332</td>\n",
              "      <td>361</td>\n",
              "      <td>1</td>\n",
              "      <td>2</td>\n",
              "    </tr>\n",
              "    <tr>\n",
              "      <th>1</th>\n",
              "      <td>286</td>\n",
              "      <td>324</td>\n",
              "      <td>366</td>\n",
              "      <td>353</td>\n",
              "      <td>333</td>\n",
              "      <td>361</td>\n",
              "      <td>1</td>\n",
              "      <td>2</td>\n",
              "    </tr>\n",
              "    <tr>\n",
              "      <th>2</th>\n",
              "      <td>290</td>\n",
              "      <td>325</td>\n",
              "      <td>367</td>\n",
              "      <td>351</td>\n",
              "      <td>334</td>\n",
              "      <td>362</td>\n",
              "      <td>1</td>\n",
              "      <td>2</td>\n",
              "    </tr>\n",
              "    <tr>\n",
              "      <th>3</th>\n",
              "      <td>287</td>\n",
              "      <td>325</td>\n",
              "      <td>369</td>\n",
              "      <td>353</td>\n",
              "      <td>335</td>\n",
              "      <td>362</td>\n",
              "      <td>1</td>\n",
              "      <td>2</td>\n",
              "    </tr>\n",
              "    <tr>\n",
              "      <th>4</th>\n",
              "      <td>290</td>\n",
              "      <td>325</td>\n",
              "      <td>366</td>\n",
              "      <td>353</td>\n",
              "      <td>333</td>\n",
              "      <td>363</td>\n",
              "      <td>1</td>\n",
              "      <td>2</td>\n",
              "    </tr>\n",
              "    <tr>\n",
              "      <th>...</th>\n",
              "      <td>...</td>\n",
              "      <td>...</td>\n",
              "      <td>...</td>\n",
              "      <td>...</td>\n",
              "      <td>...</td>\n",
              "      <td>...</td>\n",
              "      <td>...</td>\n",
              "      <td>...</td>\n",
              "    </tr>\n",
              "    <tr>\n",
              "      <th>601</th>\n",
              "      <td>278</td>\n",
              "      <td>307</td>\n",
              "      <td>354</td>\n",
              "      <td>330</td>\n",
              "      <td>324</td>\n",
              "      <td>356</td>\n",
              "      <td>1</td>\n",
              "      <td>2</td>\n",
              "    </tr>\n",
              "    <tr>\n",
              "      <th>602</th>\n",
              "      <td>268</td>\n",
              "      <td>296</td>\n",
              "      <td>344</td>\n",
              "      <td>319</td>\n",
              "      <td>316</td>\n",
              "      <td>347</td>\n",
              "      <td>1</td>\n",
              "      <td>1</td>\n",
              "    </tr>\n",
              "    <tr>\n",
              "      <th>603</th>\n",
              "      <td>264</td>\n",
              "      <td>287</td>\n",
              "      <td>334</td>\n",
              "      <td>304</td>\n",
              "      <td>305</td>\n",
              "      <td>337</td>\n",
              "      <td>1</td>\n",
              "      <td>1</td>\n",
              "    </tr>\n",
              "    <tr>\n",
              "      <th>604</th>\n",
              "      <td>264</td>\n",
              "      <td>295</td>\n",
              "      <td>345</td>\n",
              "      <td>320</td>\n",
              "      <td>314</td>\n",
              "      <td>351</td>\n",
              "      <td>1</td>\n",
              "      <td>2</td>\n",
              "    </tr>\n",
              "    <tr>\n",
              "      <th>605</th>\n",
              "      <td>266</td>\n",
              "      <td>303</td>\n",
              "      <td>354</td>\n",
              "      <td>331</td>\n",
              "      <td>319</td>\n",
              "      <td>362</td>\n",
              "      <td>1</td>\n",
              "      <td>2</td>\n",
              "    </tr>\n",
              "  </tbody>\n",
              "</table>\n",
              "<p>606 rows × 8 columns</p>\n",
              "</div>"
            ],
            "text/plain": [
              "      xF  xRE  xLE   xN  xRM  xLM  X0  label\n",
              "0    292  323  367  353  332  361   1      2\n",
              "1    286  324  366  353  333  361   1      2\n",
              "2    290  325  367  351  334  362   1      2\n",
              "3    287  325  369  353  335  362   1      2\n",
              "4    290  325  366  353  333  363   1      2\n",
              "..   ...  ...  ...  ...  ...  ...  ..    ...\n",
              "601  278  307  354  330  324  356   1      2\n",
              "602  268  296  344  319  316  347   1      1\n",
              "603  264  287  334  304  305  337   1      1\n",
              "604  264  295  345  320  314  351   1      2\n",
              "605  266  303  354  331  319  362   1      2\n",
              "\n",
              "[606 rows x 8 columns]"
            ]
          },
          "metadata": {}
        }
      ]
    },
    {
      "cell_type": "code",
      "metadata": {
        "colab": {
          "base_uri": "https://localhost:8080/"
        },
        "id": "mJqfnEU5-NUn",
        "outputId": "02426c36-64f1-4126-8028-645cf8889c05"
      },
      "source": [
        "for i in range(3):\n",
        "    print(\"No. of Samples of Label-{}: {}\".format(i+1, len(driv_df[driv_df['label'] == i+1])))"
      ],
      "execution_count": null,
      "outputs": [
        {
          "output_type": "stream",
          "name": "stdout",
          "text": [
            "No. of Samples of Label-1: 27\n",
            "No. of Samples of Label-2: 546\n",
            "No. of Samples of Label-3: 33\n"
          ]
        }
      ]
    },
    {
      "cell_type": "markdown",
      "metadata": {
        "id": "YTsnUHCe-_tU"
      },
      "source": [
        "**Logistic** **Regression**\n"
      ]
    },
    {
      "cell_type": "code",
      "metadata": {
        "id": "JXqhDtcQ-lY3"
      },
      "source": [
        "def logLoss(predicted, train_Y):\n",
        "    _train_Y = np.subtract(1, train_Y)\n",
        "    _predicted = np.subtract(1, predicted)\n",
        "    return -1 * np.nan_to_num(np.multiply(train_Y, np.log(predicted)) + np.multiply(_train_Y, np.log(_predicted))).mean()\n",
        "\n",
        "def predict(weight, sample):\n",
        "    return 1 / (1 + np.exp(-1 * np.sum(np.multiply(weight, sample))))\n"
      ],
      "execution_count": null,
      "outputs": []
    },
    {
      "cell_type": "code",
      "metadata": {
        "id": "_trS4DhKCdEC"
      },
      "source": [
        "def logistic_regression(train_X, train_Y, alpha, ro, epoch, graph=True):\n",
        "    no_of_coeff = len(train_X[0])\n",
        "    \n",
        "    weight = np.zeros(no_of_coeff)\n",
        "    predicted = np.zeros(len(train_Y))\n",
        "    curr_loss = prev_loss = float(\"inf\")\n",
        "    loss = []\n",
        "    ep = 0\n",
        "    for _ in range(epoch):\n",
        "        ep += 1\n",
        "        for i in range(len(predicted)):\n",
        "            # Calc h(X) for ith training sample\n",
        "            predicted[i] = predict(weight, train_X[i])\n",
        "\n",
        "            # Update all parameters w0, w1, w2,..., wn \n",
        "            for j in range(no_of_coeff):\n",
        "                weight[j] -= alpha * (predicted[i] - train_Y[i]) * train_X[i, j]\n",
        "            \n",
        "        curr_loss = logLoss(predicted, train_Y)\n",
        "        loss.append(curr_loss)\n",
        "        if abs(curr_loss - prev_loss) < ro:\n",
        "            break\n",
        "        prev_loss = curr_loss\n",
        "    if graph:\n",
        "        print(\"\\nNo. of Epoch:\", ep)\n",
        "        print(\"Loss:\", curr_loss)\n",
        "        plt.plot(np.arange(ep), loss)\n",
        "        plt.show()\n",
        "    return weight, curr_loss"
      ],
      "execution_count": null,
      "outputs": []
    },
    {
      "cell_type": "code",
      "metadata": {
        "id": "65K4hGprDGVn"
      },
      "source": [
        "def createY(train_Y, label):\n",
        "    arr = np.array(train_Y)\n",
        "    for i in range(len(arr)):\n",
        "        arr[i] = 1 if arr[i] == label else 0\n",
        "    return arr\n",
        "\n",
        "def train_model(train_X, train_Y, alpha, ro, epoch):\n",
        "    train_Y1 = createY(train_Y, 1)\n",
        "    train_Y2 = createY(train_Y, 2)\n",
        "    train_Y3 = createY(train_Y, 3)\n",
        "\n",
        "    weight0, mse = logistic_regression(train_X, train_Y1, alpha[0], ro, epoch[0])\n",
        "    weight1, mse = logistic_regression(train_X, train_Y2, alpha[1], ro, epoch[1])\n",
        "    weight2, mse = logistic_regression(train_X, train_Y3, alpha[2], ro, epoch[2])\n",
        "    \n",
        "    return np.array([weight0, weight1, weight2])\n",
        "\n",
        "def predictClass(model, val_X):\n",
        "    predicted = np.zeros(len(val_X), dtype=np.int8)\n",
        "    for i in range(len(val_X)):\n",
        "        prob = np.array([predict(weight, val_X[i]) for weight in model])\n",
        "        predicted[i] = np.argmax(prob) + 1\n",
        "    return predicted\n"
      ],
      "execution_count": null,
      "outputs": []
    },
    {
      "cell_type": "code",
      "metadata": {
        "id": "V8x_VZ4MDSBV"
      },
      "source": [
        "def accuracy(predicted, actual):\n",
        "    return 1 - (np.count_nonzero(np.subtract(predicted, actual)) / len(actual))\n",
        "\n",
        "def precision(predicted, actual, label):\n",
        "    true = 0\n",
        "    total = 0\n",
        "    for i in range(len(predicted)):\n",
        "        if predicted[i] == label and actual[i] == label:\n",
        "            true += 1\n",
        "        if predicted[i] == label:\n",
        "            total += 1\n",
        "    if total == 0:\n",
        "        return 0\n",
        "    else:\n",
        "        return true/total\n",
        "\n",
        "def recall(predicted, actual, label):\n",
        "    true = 0\n",
        "    total = 0\n",
        "    for i in range(len(predicted)):\n",
        "        if predicted[i] == label and actual[i] == label:\n",
        "            true += 1\n",
        "        if actual[i] == label:\n",
        "            total += 1\n",
        "    if total == 0:\n",
        "        return 0\n",
        "    else:\n",
        "        return true/total\n",
        "\n",
        "def printMetrics(model, data_X, actual):\n",
        "    predicted = predictClass(model, data_X)\n",
        "\n",
        "    print(\"\\nOverAll Accuracy: {:.2%}\".format(accuracy(predicted, actual)))\n",
        "    for i in range(1, 4):\n",
        "        print(\"Precision for class {}: {:.2%}\".format(i, precision(predicted, actual, i)))\n",
        "    print()\n",
        "    for i in range(1, 4):\n",
        "        print(\"Recall for class {}: {:.2%}\".format(i, recall(predicted, actual, i)))\n",
        "    print(\"\\n\",predicted)"
      ],
      "execution_count": null,
      "outputs": []
    },
    {
      "cell_type": "code",
      "metadata": {
        "id": "RIuNWdTGDyE8"
      },
      "source": [
        "from sklearn.model_selection import train_test_split\n",
        "from sklearn.preprocessing import normalize\n",
        "\n",
        "random_driv_df = driv_df.sample(frac=1)\n",
        "driv_X = normalize(np.array(random_driv_df[features]))\n",
        "driv_y = np.array(random_driv_df['label'])\n",
        "\n",
        "train_X, val_X, test_X = np.split(driv_X, [int(.5*len(driv_X)), int(.75*len(driv_X))])\n",
        "train_Y, val_Y, test_Y = np.split(driv_y, [int(.5*len(driv_y)), int(.75*len(driv_y))])"
      ],
      "execution_count": null,
      "outputs": []
    },
    {
      "cell_type": "code",
      "metadata": {
        "colab": {
          "base_uri": "https://localhost:8080/",
          "height": 813
        },
        "id": "tANg1A44FAw5",
        "outputId": "c11d1644-bb20-417a-c97e-dce299ff410d"
      },
      "source": [
        "def tuning(data_X, data_Y, alpha, ro, epoch, label):\n",
        "    mse = []\n",
        "    for a in alpha:\n",
        "        weight, m = logistic_regression(val_X, createY(val_Y, label), a, ro, epoch, False)\n",
        "        mse.append(m)\n",
        "    plt.plot(alpha, mse)\n",
        "    plt.show()\n",
        "\n",
        "alpha_tune = [0.001, 0.003, 0.005, 0.01, 0.03, 0.05, 0.1, 0.3,0.5]\n",
        "ro = 1e-6\n",
        "for i in range(3):\n",
        "    print('Label: {}'.format(i+1))\n",
        "    tuning(val_X, val_Y, alpha_tune, ro, 500, i+1)"
      ],
      "execution_count": null,
      "outputs": [
        {
          "output_type": "stream",
          "name": "stdout",
          "text": [
            "Label: 1\n"
          ]
        },
        {
          "output_type": "display_data",
          "data": {
            "image/png": "[encoded data removed]",
            "text/plain": [
              "<Figure size 432x288 with 1 Axes>"
            ]
          },
          "metadata": {
            "needs_background": "light"
          }
        },
        {
          "output_type": "stream",
          "name": "stdout",
          "text": [
            "Label: 2\n"
          ]
        },
        {
          "output_type": "display_data",
          "data": {
            "image/png": "[encoded data removed]",
            "text/plain": [
              "<Figure size 432x288 with 1 Axes>"
            ]
          },
          "metadata": {
            "needs_background": "light"
          }
        },
        {
          "output_type": "stream",
          "name": "stdout",
          "text": [
            "Label: 3\n"
          ]
        },
        {
          "output_type": "display_data",
          "data": {
            "image/png": "[encoded data removed]",
            "text/plain": [
              "<Figure size 432x288 with 1 Axes>"
            ]
          },
          "metadata": {
            "needs_background": "light"
          }
        }
      ]
    },
    {
      "cell_type": "code",
      "metadata": {
        "colab": {
          "base_uri": "https://localhost:8080/",
          "height": 919
        },
        "id": "BKkYaHTLISVy",
        "outputId": "94744639-d3a9-4050-de1e-052f9cf758fb"
      },
      "source": [
        "alpha = np.array([0.01,0.3,0.5])\n",
        "max_epoch = np.array([500, 500, 500])\n",
        "\n",
        "model = train_model(train_X, train_Y, alpha, ro, max_epoch)"
      ],
      "execution_count": null,
      "outputs": [
        {
          "output_type": "stream",
          "name": "stdout",
          "text": [
            "\n",
            "No. of Epoch: 500\n",
            "Loss: 0.16578911279648378\n"
          ]
        },
        {
          "output_type": "display_data",
          "data": {
            "image/png": "[encoded data removed]",
            "text/plain": [
              "<Figure size 432x288 with 1 Axes>"
            ]
          },
          "metadata": {
            "needs_background": "light"
          }
        },
        {
          "output_type": "stream",
          "name": "stdout",
          "text": [
            "\n",
            "No. of Epoch: 500\n",
            "Loss: 0.3286376386433972\n"
          ]
        },
        {
          "output_type": "display_data",
          "data": {
            "image/png": "[encoded data removed]",
            "text/plain": [
              "<Figure size 432x288 with 1 Axes>"
            ]
          },
          "metadata": {
            "needs_background": "light"
          }
        },
        {
          "output_type": "stream",
          "name": "stdout",
          "text": [
            "\n",
            "No. of Epoch: 500\n",
            "Loss: 0.1861947448269283\n"
          ]
        },
        {
          "output_type": "display_data",
          "data": {
            "image/png": "[encoded data removed]",
            "text/plain": [
              "<Figure size 432x288 with 1 Axes>"
            ]
          },
          "metadata": {
            "needs_background": "light"
          }
        }
      ]
    },
    {
      "cell_type": "code",
      "metadata": {
        "colab": {
          "base_uri": "https://localhost:8080/"
        },
        "id": "XbjlIsCbNubd",
        "outputId": "a3cb2cd0-1110-4a57-c727-2cc779c29518"
      },
      "source": [
        "print('Metrics for Training Samples:-')\n",
        "printMetrics(model, train_X, np.array(train_Y))"
      ],
      "execution_count": null,
      "outputs": [
        {
          "output_type": "stream",
          "name": "stdout",
          "text": [
            "Metrics for Training Samples:-\n",
            "\n",
            "OverAll Accuracy: 89.77%\n",
            "Precision for class 1: 0.00%\n",
            "Precision for class 2: 89.77%\n",
            "Precision for class 3: 0.00%\n",
            "\n",
            "Recall for class 1: 0.00%\n",
            "Recall for class 2: 100.00%\n",
            "Recall for class 3: 0.00%\n",
            "\n",
            " [2 2 2 2 2 2 2 2 2 2 2 2 2 2 2 2 2 2 2 2 2 2 2 2 2 2 2 2 2 2 2 2 2 2 2 2 2\n",
            " 2 2 2 2 2 2 2 2 2 2 2 2 2 2 2 2 2 2 2 2 2 2 2 2 2 2 2 2 2 2 2 2 2 2 2 2 2\n",
            " 2 2 2 2 2 2 2 2 2 2 2 2 2 2 2 2 2 2 2 2 2 2 2 2 2 2 2 2 2 2 2 2 2 2 2 2 2\n",
            " 2 2 2 2 2 2 2 2 2 2 2 2 2 2 2 2 2 2 2 2 2 2 2 2 2 2 2 2 2 2 2 2 2 2 2 2 2\n",
            " 2 2 2 2 2 2 2 2 2 2 2 2 2 2 2 2 2 2 2 2 2 2 2 2 2 2 2 2 2 2 2 2 2 2 2 2 2\n",
            " 2 2 2 2 2 2 2 2 2 2 2 2 2 2 2 2 2 2 2 2 2 2 2 2 2 2 2 2 2 2 2 2 2 2 2 2 2\n",
            " 2 2 2 2 2 2 2 2 2 2 2 2 2 2 2 2 2 2 2 2 2 2 2 2 2 2 2 2 2 2 2 2 2 2 2 2 2\n",
            " 2 2 2 2 2 2 2 2 2 2 2 2 2 2 2 2 2 2 2 2 2 2 2 2 2 2 2 2 2 2 2 2 2 2 2 2 2\n",
            " 2 2 2 2 2 2 2]\n"
          ]
        }
      ]
    },
    {
      "cell_type": "code",
      "metadata": {
        "colab": {
          "base_uri": "https://localhost:8080/"
        },
        "id": "hpufDPThOM19",
        "outputId": "672e9d20-671a-4ef6-c4b9-ce28c5b28dfa"
      },
      "source": [
        "print('Metrics for Test Samples:-')\n",
        "printMetrics(model, test_X, np.array(test_Y))"
      ],
      "execution_count": null,
      "outputs": [
        {
          "output_type": "stream",
          "name": "stdout",
          "text": [
            "Metrics for Test Samples:-\n",
            "\n",
            "OverAll Accuracy: 88.82%\n",
            "Precision for class 1: 0.00%\n",
            "Precision for class 2: 88.82%\n",
            "Precision for class 3: 0.00%\n",
            "\n",
            "Recall for class 1: 0.00%\n",
            "Recall for class 2: 100.00%\n",
            "Recall for class 3: 0.00%\n",
            "\n",
            " [2 2 2 2 2 2 2 2 2 2 2 2 2 2 2 2 2 2 2 2 2 2 2 2 2 2 2 2 2 2 2 2 2 2 2 2 2\n",
            " 2 2 2 2 2 2 2 2 2 2 2 2 2 2 2 2 2 2 2 2 2 2 2 2 2 2 2 2 2 2 2 2 2 2 2 2 2\n",
            " 2 2 2 2 2 2 2 2 2 2 2 2 2 2 2 2 2 2 2 2 2 2 2 2 2 2 2 2 2 2 2 2 2 2 2 2 2\n",
            " 2 2 2 2 2 2 2 2 2 2 2 2 2 2 2 2 2 2 2 2 2 2 2 2 2 2 2 2 2 2 2 2 2 2 2 2 2\n",
            " 2 2 2 2]\n"
          ]
        }
      ]
    },
    {
      "cell_type": "code",
      "metadata": {
        "colab": {
          "base_uri": "https://localhost:8080/"
        },
        "id": "NteZAZ-WaK3x",
        "outputId": "d989869e-0609-435a-f6af-edd7b2b5f41b"
      },
      "source": [
        "printMetrics(model, np.array(driv_df[features]), np.array(driv_df['label']))\n",
        "print(\"/***************?\")\n",
        "print(np.array(driv_df['label']))"
      ],
      "execution_count": null,
      "outputs": [
        {
          "output_type": "stream",
          "name": "stdout",
          "text": [
            "\n",
            "OverAll Accuracy: 90.10%\n",
            "Precision for class 1: 0.00%\n",
            "Precision for class 2: 90.10%\n",
            "Precision for class 3: 0.00%\n",
            "\n",
            "Recall for class 1: 0.00%\n",
            "Recall for class 2: 100.00%\n",
            "Recall for class 3: 0.00%\n",
            "\n",
            " [2 2 2 2 2 2 2 2 2 2 2 2 2 2 2 2 2 2 2 2 2 2 2 2 2 2 2 2 2 2 2 2 2 2 2 2 2\n",
            " 2 2 2 2 2 2 2 2 2 2 2 2 2 2 2 2 2 2 2 2 2 2 2 2 2 2 2 2 2 2 2 2 2 2 2 2 2\n",
            " 2 2 2 2 2 2 2 2 2 2 2 2 2 2 2 2 2 2 2 2 2 2 2 2 2 2 2 2 2 2 2 2 2 2 2 2 2\n",
            " 2 2 2 2 2 2 2 2 2 2 2 2 2 2 2 2 2 2 2 2 2 2 2 2 2 2 2 2 2 2 2 2 2 2 2 2 2\n",
            " 2 2 2 2 2 2 2 2 2 2 2 2 2 2 2 2 2 2 2 2 2 2 2 2 2 2 2 2 2 2 2 2 2 2 2 2 2\n",
            " 2 2 2 2 2 2 2 2 2 2 2 2 2 2 2 2 2 2 2 2 2 2 2 2 2 2 2 2 2 2 2 2 2 2 2 2 2\n",
            " 2 2 2 2 2 2 2 2 2 2 2 2 2 2 2 2 2 2 2 2 2 2 2 2 2 2 2 2 2 2 2 2 2 2 2 2 2\n",
            " 2 2 2 2 2 2 2 2 2 2 2 2 2 2 2 2 2 2 2 2 2 2 2 2 2 2 2 2 2 2 2 2 2 2 2 2 2\n",
            " 2 2 2 2 2 2 2 2 2 2 2 2 2 2 2 2 2 2 2 2 2 2 2 2 2 2 2 2 2 2 2 2 2 2 2 2 2\n",
            " 2 2 2 2 2 2 2 2 2 2 2 2 2 2 2 2 2 2 2 2 2 2 2 2 2 2 2 2 2 2 2 2 2 2 2 2 2\n",
            " 2 2 2 2 2 2 2 2 2 2 2 2 2 2 2 2 2 2 2 2 2 2 2 2 2 2 2 2 2 2 2 2 2 2 2 2 2\n",
            " 2 2 2 2 2 2 2 2 2 2 2 2 2 2 2 2 2 2 2 2 2 2 2 2 2 2 2 2 2 2 2 2 2 2 2 2 2\n",
            " 2 2 2 2 2 2 2 2 2 2 2 2 2 2 2 2 2 2 2 2 2 2 2 2 2 2 2 2 2 2 2 2 2 2 2 2 2\n",
            " 2 2 2 2 2 2 2 2 2 2 2 2 2 2 2 2 2 2 2 2 2 2 2 2 2 2 2 2 2 2 2 2 2 2 2 2 2\n",
            " 2 2 2 2 2 2 2 2 2 2 2 2 2 2 2 2 2 2 2 2 2 2 2 2 2 2 2 2 2 2 2 2 2 2 2 2 2\n",
            " 2 2 2 2 2 2 2 2 2 2 2 2 2 2 2 2 2 2 2 2 2 2 2 2 2 2 2 2 2 2 2 2 2 2 2 2 2\n",
            " 2 2 2 2 2 2 2 2 2 2 2 2 2 2]\n",
            "/***************?\n",
            "[2 2 2 2 2 2 2 2 2 2 2 2 2 2 2 2 2 2 2 2 2 2 2 2 2 1 1 1 1 1 1 1 2 2 2 2 2\n",
            " 2 2 2 2 2 2 2 2 2 2 2 2 2 2 2 2 2 2 2 2 2 2 2 2 2 2 2 2 2 2 2 2 2 2 2 2 2\n",
            " 2 2 2 2 2 2 2 2 2 2 2 2 2 2 2 2 2 2 2 2 2 2 2 2 2 2 2 2 2 2 2 2 2 2 2 2 2\n",
            " 2 2 2 2 2 2 2 2 2 2 2 2 2 2 2 2 2 2 2 2 2 2 2 2 2 2 2 2 2 2 2 2 2 2 2 2 2\n",
            " 2 2 2 2 2 2 2 2 2 2 2 2 2 2 2 2 2 2 2 3 3 3 3 3 3 3 3 3 3 3 3 2 2 2 2 2 2\n",
            " 2 2 2 2 2 2 2 2 2 2 2 2 2 2 2 2 2 2 2 2 2 2 2 2 2 2 2 2 2 2 2 2 2 2 2 2 2\n",
            " 2 2 2 2 2 2 2 2 2 2 2 2 2 2 2 2 2 2 2 2 2 2 2 3 2 2 2 2 2 2 2 2 2 2 2 2 2\n",
            " 2 2 2 2 2 2 2 2 2 2 2 2 2 2 2 2 2 2 2 2 2 2 2 2 2 2 2 2 2 2 2 2 2 3 3 3 3\n",
            " 3 2 2 2 2 3 3 3 3 2 2 2 2 2 2 2 2 2 2 1 1 1 1 1 1 1 1 1 1 1 1 1 1 2 2 2 2\n",
            " 2 2 2 2 2 2 2 2 2 2 2 2 2 2 2 2 2 2 2 2 2 2 2 2 2 2 2 2 2 2 2 2 2 2 2 2 2\n",
            " 2 2 2 2 2 2 2 2 2 2 2 2 2 2 2 2 2 1 1 1 2 2 2 2 2 2 2 2 2 2 2 2 2 2 2 2 2\n",
            " 2 2 2 2 2 2 2 2 2 2 2 2 2 2 2 2 2 2 2 2 2 2 2 2 2 2 2 2 2 2 2 2 2 2 2 2 2\n",
            " 2 2 2 2 2 2 2 2 2 2 2 2 2 2 2 2 2 2 2 2 2 2 2 2 2 2 2 2 2 2 2 2 2 2 2 2 2\n",
            " 2 2 2 2 2 2 2 2 2 2 2 2 2 2 2 2 2 2 2 2 2 2 2 2 2 2 2 2 2 2 2 2 2 2 2 2 2\n",
            " 2 2 2 1 2 2 2 3 3 3 3 3 3 3 3 3 2 2 2 2 2 2 2 2 2 2 2 2 2 2 2 2 2 2 2 2 2\n",
            " 2 2 2 2 2 2 2 2 2 2 2 2 2 2 2 2 3 3 2 2 2 2 2 2 2 2 2 2 2 2 2 2 2 2 2 2 2\n",
            " 2 2 2 2 2 2 2 2 2 2 1 1 2 2]\n"
          ]
        },
        {
          "output_type": "stream",
          "name": "stderr",
          "text": [
            "/usr/local/lib/python3.7/dist-packages/ipykernel_launcher.py:7: RuntimeWarning: overflow encountered in exp\n",
            "  import sys\n"
          ]
        }
      ]
    },
    {
      "cell_type": "markdown",
      "metadata": {
        "id": "ZawLINkrWXq8"
      },
      "source": [
        "**K**-**Fold**(**Logistic** **Regression**)\n"
      ]
    },
    {
      "cell_type": "code",
      "metadata": {
        "colab": {
          "base_uri": "https://localhost:8080/",
          "height": 1000
        },
        "id": "gde-DOFrOdk9",
        "outputId": "ad35dca3-e19e-425f-8f02-d2f3f5d02d37"
      },
      "source": [
        "from sklearn.model_selection import KFold\n",
        "alpha = np.array([0.05, 0.3, 0.5])\n",
        "max_epoch = np.array([500, 500, 500])\n",
        "ro = 1e-6\n",
        "\n",
        "kf = KFold(n_splits=5)\n",
        "\n",
        "precision_arr = np.zeros(3)\n",
        "recall_arr = np.zeros(3)\n",
        "\n",
        "fold = 0\n",
        "for train_index, test_index in kf.split(driv_X):\n",
        "    fold += 1\n",
        "    print(\"Fold: \", fold)\n",
        "    \n",
        "    X_train, X_test = driv_X[train_index], driv_X[test_index]\n",
        "    y_train, y_test = driv_y[train_index], driv_y[test_index]\n",
        "\n",
        "    model = train_model(X_train, y_train, alpha, ro, max_epoch)\n",
        "    y_predicted = predictClass(model, X_test)\n",
        "    print(\"\\nOverAll Accuracy: {:.2%}\".format(accuracy(y_predicted, y_test)))\n",
        "\n",
        "    print()\n",
        "    for i in range(3):\n",
        "        x = precision(y_predicted, y_test, i+1)\n",
        "        precision_arr[i] += x\n",
        "        print(\"Precision for class {}: {:.2%}\".format(i, x))\n",
        "\n",
        "    print()\n",
        "    for i in range(3):\n",
        "        x = recall(y_predicted, y_test, i+1)\n",
        "        recall_arr[i] += x\n",
        "        print(\"Recall for class {}: {:.2%}\".format(i, x))\n",
        "    print()\n"
      ],
      "execution_count": null,
      "outputs": [
        {
          "output_type": "stream",
          "name": "stdout",
          "text": [
            "Fold:  1\n",
            "\n",
            "No. of Epoch: 500\n",
            "Loss: 0.18705684679237825\n"
          ]
        },
        {
          "output_type": "display_data",
          "data": {
            "image/png": "[encoded data removed]",
            "text/plain": [
              "<Figure size 432x288 with 1 Axes>"
            ]
          },
          "metadata": {
            "needs_background": "light"
          }
        },
        {
          "output_type": "stream",
          "name": "stdout",
          "text": [
            "\n",
            "No. of Epoch: 500\n",
            "Loss: 0.33462281189498433\n"
          ]
        },
        {
          "output_type": "display_data",
          "data": {
            "image/png": "[encoded data removed]",
            "text/plain": [
              "<Figure size 432x288 with 1 Axes>"
            ]
          },
          "metadata": {
            "needs_background": "light"
          }
        },
        {
          "output_type": "stream",
          "name": "stdout",
          "text": [
            "\n",
            "No. of Epoch: 500\n",
            "Loss: 0.16198329277149126\n"
          ]
        },
        {
          "output_type": "display_data",
          "data": {
            "image/png": "[encoded data removed]",
            "text/plain": [
              "<Figure size 432x288 with 1 Axes>"
            ]
          },
          "metadata": {
            "needs_background": "light"
          }
        },
        {
          "output_type": "stream",
          "name": "stdout",
          "text": [
            "\n",
            "OverAll Accuracy: 92.62%\n",
            "\n",
            "Precision for class 0: 0.00%\n",
            "Precision for class 1: 92.62%\n",
            "Precision for class 2: 0.00%\n",
            "\n",
            "Recall for class 0: 0.00%\n",
            "Recall for class 1: 100.00%\n",
            "Recall for class 2: 0.00%\n",
            "\n",
            "Fold:  2\n",
            "\n",
            "No. of Epoch: 500\n",
            "Loss: 0.17279369700890915\n"
          ]
        },
        {
          "output_type": "display_data",
          "data": {
            "image/png": "[encoded data removed]",
            "text/plain": [
              "<Figure size 432x288 with 1 Axes>"
            ]
          },
          "metadata": {
            "needs_background": "light"
          }
        },
        {
          "output_type": "stream",
          "name": "stdout",
          "text": [
            "\n",
            "No. of Epoch: 500\n",
            "Loss: 0.29381435458865324\n"
          ]
        },
        {
          "output_type": "display_data",
          "data": {
            "image/png": "[encoded data removed]",
            "text/plain": [
              "<Figure size 432x288 with 1 Axes>"
            ]
          },
          "metadata": {
            "needs_background": "light"
          }
        },
        {
          "output_type": "stream",
          "name": "stdout",
          "text": [
            "\n",
            "No. of Epoch: 500\n",
            "Loss: 0.14726580470916345\n"
          ]
        },
        {
          "output_type": "display_data",
          "data": {
            "image/png": "[encoded data removed]",
            "text/plain": [
              "<Figure size 432x288 with 1 Axes>"
            ]
          },
          "metadata": {
            "needs_background": "light"
          }
        },
        {
          "output_type": "stream",
          "name": "stdout",
          "text": [
            "\n",
            "OverAll Accuracy: 85.95%\n",
            "\n",
            "Precision for class 0: 0.00%\n",
            "Precision for class 1: 85.95%\n",
            "Precision for class 2: 0.00%\n",
            "\n",
            "Recall for class 0: 0.00%\n",
            "Recall for class 1: 100.00%\n",
            "Recall for class 2: 0.00%\n",
            "\n",
            "Fold:  3\n",
            "\n",
            "No. of Epoch: 500\n",
            "Loss: 0.16730998214487422\n"
          ]
        },
        {
          "output_type": "display_data",
          "data": {
            "image/png": "[encoded data removed]",
            "text/plain": [
              "<Figure size 432x288 with 1 Axes>"
            ]
          },
          "metadata": {
            "needs_background": "light"
          }
        },
        {
          "output_type": "stream",
          "name": "stdout",
          "text": [
            "\n",
            "No. of Epoch: 500\n",
            "Loss: 0.3400331083048721\n"
          ]
        },
        {
          "output_type": "display_data",
          "data": {
            "image/png": "[encoded data removed]",
            "text/plain": [
              "<Figure size 432x288 with 1 Axes>"
            ]
          },
          "metadata": {
            "needs_background": "light"
          }
        },
        {
          "output_type": "stream",
          "name": "stdout",
          "text": [
            "\n",
            "No. of Epoch: 500\n",
            "Loss: 0.1701164784074846\n"
          ]
        },
        {
          "output_type": "display_data",
          "data": {
            "image/png": "[encoded data removed]",
            "text/plain": [
              "<Figure size 432x288 with 1 Axes>"
            ]
          },
          "metadata": {
            "needs_background": "light"
          }
        },
        {
          "output_type": "stream",
          "name": "stdout",
          "text": [
            "\n",
            "OverAll Accuracy: 93.39%\n",
            "\n",
            "Precision for class 0: 0.00%\n",
            "Precision for class 1: 93.39%\n",
            "Precision for class 2: 0.00%\n",
            "\n",
            "Recall for class 0: 0.00%\n",
            "Recall for class 1: 100.00%\n",
            "Recall for class 2: 0.00%\n",
            "\n",
            "Fold:  4\n",
            "\n",
            "No. of Epoch: 500\n",
            "Loss: 0.1745891489546883\n"
          ]
        },
        {
          "output_type": "display_data",
          "data": {
            "image/png": "[encoded data removed]",
            "text/plain": [
              "<Figure size 432x288 with 1 Axes>"
            ]
          },
          "metadata": {
            "needs_background": "light"
          }
        },
        {
          "output_type": "stream",
          "name": "stdout",
          "text": [
            "\n",
            "No. of Epoch: 500\n",
            "Loss: 0.3134080909355028\n"
          ]
        },
        {
          "output_type": "display_data",
          "data": {
            "image/png": "[encoded data removed]",
            "text/plain": [
              "<Figure size 432x288 with 1 Axes>"
            ]
          },
          "metadata": {
            "needs_background": "light"
          }
        },
        {
          "output_type": "stream",
          "name": "stdout",
          "text": [
            "\n",
            "No. of Epoch: 500\n",
            "Loss: 0.15810597923010739\n"
          ]
        },
        {
          "output_type": "display_data",
          "data": {
            "image/png": "[encoded data removed]",
            "text/plain": [
              "<Figure size 432x288 with 1 Axes>"
            ]
          },
          "metadata": {
            "needs_background": "light"
          }
        },
        {
          "output_type": "stream",
          "name": "stdout",
          "text": [
            "\n",
            "OverAll Accuracy: 89.26%\n",
            "\n",
            "Precision for class 0: 0.00%\n",
            "Precision for class 1: 89.26%\n",
            "Precision for class 2: 0.00%\n",
            "\n",
            "Recall for class 0: 0.00%\n",
            "Recall for class 1: 100.00%\n",
            "Recall for class 2: 0.00%\n",
            "\n",
            "Fold:  5\n",
            "\n",
            "No. of Epoch: 500\n",
            "Loss: 0.15826880359457543\n"
          ]
        },
        {
          "output_type": "display_data",
          "data": {
            "image/png": "[encoded data removed]",
            "text/plain": [
              "<Figure size 432x288 with 1 Axes>"
            ]
          },
          "metadata": {
            "needs_background": "light"
          }
        },
        {
          "output_type": "stream",
          "name": "stdout",
          "text": [
            "\n",
            "No. of Epoch: 500\n",
            "Loss: 0.3161693364357284\n"
          ]
        },
        {
          "output_type": "display_data",
          "data": {
            "image/png": "[encoded data removed]",
            "text/plain": [
              "<Figure size 432x288 with 1 Axes>"
            ]
          },
          "metadata": {
            "needs_background": "light"
          }
        },
        {
          "output_type": "stream",
          "name": "stdout",
          "text": [
            "\n",
            "No. of Epoch: 500\n",
            "Loss: 0.16215321152675016\n"
          ]
        },
        {
          "output_type": "display_data",
          "data": {
            "image/png": "[encoded data removed]",
            "text/plain": [
              "<Figure size 432x288 with 1 Axes>"
            ]
          },
          "metadata": {
            "needs_background": "light"
          }
        },
        {
          "output_type": "stream",
          "name": "stdout",
          "text": [
            "\n",
            "OverAll Accuracy: 89.26%\n",
            "\n",
            "Precision for class 0: 0.00%\n",
            "Precision for class 1: 89.26%\n",
            "Precision for class 2: 0.00%\n",
            "\n",
            "Recall for class 0: 0.00%\n",
            "Recall for class 1: 100.00%\n",
            "Recall for class 2: 0.00%\n",
            "\n"
          ]
        }
      ]
    },
    {
      "cell_type": "code",
      "metadata": {
        "colab": {
          "base_uri": "https://localhost:8080/"
        },
        "id": "Va4hmPhlWvxU",
        "outputId": "9fecd7e6-9b0f-417c-92e5-3f968e0d9e82"
      },
      "source": [
        "for i in range(3):\n",
        "    print(\"Average Precision of Class {}: {:.2%}\".format(i+1, precision_arr[i] / 5))\n",
        "\n",
        "print()\n",
        "for i in range(3):\n",
        "    print(\"Average Recall of Class {}: {:.2%}\".format(i+1, recall_arr[i] / 5))"
      ],
      "execution_count": null,
      "outputs": [
        {
          "output_type": "stream",
          "name": "stdout",
          "text": [
            "Average Precision of Class 1: 0.00%\n",
            "Average Precision of Class 2: 90.09%\n",
            "Average Precision of Class 3: 0.00%\n",
            "\n",
            "Average Recall of Class 1: 0.00%\n",
            "Average Recall of Class 2: 100.00%\n",
            "Average Recall of Class 3: 0.00%\n"
          ]
        }
      ]
    },
    {
      "cell_type": "markdown",
      "metadata": {
        "id": "sKbfL4pUYfJc"
      },
      "source": [
        "**Sigmoid** **neuron**"
      ]
    },
    {
      "cell_type": "code",
      "metadata": {
        "id": "6zx6m5oYXQ7C"
      },
      "source": [
        "def converge(train_X, train_Y, weight):\n",
        "    for i in range(len(train_X)):\n",
        "        hX = np.sum(np.multiply(train_X[i], weight))\n",
        "        if train_Y[i] == 1 and hX < 0:\n",
        "            return False\n",
        "        elif train_Y[i] == 0 and hX >= 0:\n",
        "            return False\n",
        "    return True"
      ],
      "execution_count": null,
      "outputs": []
    },
    {
      "cell_type": "code",
      "metadata": {
        "id": "OhD-MHISYkgd"
      },
      "source": [
        "def sigmoid_neuron(train_X, train_Y, max_epoch):\n",
        "    length = len(train_X)\n",
        "    deg = len(train_X[0])\n",
        "    weight = np.array([0.3]*deg, dtype=np.float128)\n",
        "    epoch = 0\n",
        "    while not(converge(train_X, train_Y, weight)) and epoch <= max_epoch:\n",
        "        epoch += 1\n",
        "        enum = np.arange(length)\n",
        "        np.random.shuffle(enum)\n",
        "        for i in enum:\n",
        "            hX = predict(weight, train_X[i]) \n",
        "            if train_Y[i] == 1 and hX < 0.5:\n",
        "                weight += train_X[i]\n",
        "            elif train_Y[i] == 0 and hX >= 0.5:\n",
        "                weight -= train_X[i]\n",
        "        # print(weight)\n",
        "    return weight"
      ],
      "execution_count": null,
      "outputs": []
    },
    {
      "cell_type": "code",
      "metadata": {
        "id": "v6ak1uRoYoNe"
      },
      "source": [
        "def train_neuron(train_X, train_Y, epoch):\n",
        "    train_Y0 = createY(train_Y, 1)\n",
        "    train_Y1 = createY(train_Y, 2)\n",
        "    train_Y2 = createY(train_Y, 3)\n",
        "\n",
        "    weight0 = sigmoid_neuron(train_X, train_Y0, epoch[0])\n",
        "    weight1 = sigmoid_neuron(train_X, train_Y1, epoch[1])\n",
        "    weight2 = sigmoid_neuron(train_X, train_Y2, epoch[2])\n",
        "    \n",
        "    return np.array([weight0, weight1, weight2])"
      ],
      "execution_count": null,
      "outputs": []
    },
    {
      "cell_type": "code",
      "metadata": {
        "id": "dlxBKtypYrLZ"
      },
      "source": [
        "train_X, test_X = np.split(driv_X, [int(.5*len(driv_X))])\n",
        "train_Y, test_Y = np.split(driv_y, [int(.5*len(driv_y))])\n",
        "max_epoch = [500, 500, 500]\n",
        "model_p = train_neuron(train_X, train_Y, max_epoch)"
      ],
      "execution_count": null,
      "outputs": []
    },
    {
      "cell_type": "code",
      "metadata": {
        "colab": {
          "base_uri": "https://localhost:8080/"
        },
        "id": "sUIQaB7pY8I9",
        "outputId": "49e575e2-1d56-482f-c4c4-9e49ca2ce549"
      },
      "source": [
        "print('Metrics for Training Samples:-')\n",
        "printMetrics(model_p, train_X, train_Y)"
      ],
      "execution_count": null,
      "outputs": [
        {
          "output_type": "stream",
          "name": "stdout",
          "text": [
            "Metrics for Training Samples:-\n",
            "\n",
            "OverAll Accuracy: 90.10%\n",
            "Precision for class 1: 100.00%\n",
            "Precision for class 2: 90.07%\n",
            "Precision for class 3: 0.00%\n",
            "\n",
            "Recall for class 1: 8.33%\n",
            "Recall for class 2: 100.00%\n",
            "Recall for class 3: 0.00%\n",
            "\n",
            " [2 2 2 2 2 2 2 2 2 2 2 2 2 2 2 2 2 2 2 2 2 2 2 2 2 2 2 2 2 2 2 2 2 2 2 2 2\n",
            " 2 2 2 2 2 2 2 2 2 2 2 2 2 2 2 2 2 2 2 2 2 2 2 2 2 2 2 2 2 2 2 2 2 2 2 2 2\n",
            " 2 2 2 2 2 2 1 2 2 2 2 2 2 2 2 2 2 2 2 2 2 2 2 2 2 2 2 2 2 2 2 2 2 2 2 2 2\n",
            " 2 2 2 2 2 2 2 2 2 2 2 2 2 2 2 2 2 2 2 2 2 2 2 2 2 2 2 2 2 2 2 2 2 2 2 2 2\n",
            " 2 2 2 2 2 2 2 2 2 2 2 2 2 2 2 2 2 2 2 2 2 2 2 2 2 2 2 2 2 2 2 2 2 2 2 2 2\n",
            " 2 2 2 2 2 2 2 2 2 2 2 2 2 2 2 2 2 2 2 2 2 2 2 2 2 2 2 2 2 2 2 2 2 2 2 2 2\n",
            " 2 2 2 2 2 2 2 2 2 2 2 2 2 2 2 2 2 2 2 2 2 2 2 2 2 2 2 2 2 2 2 2 2 2 2 2 2\n",
            " 2 2 2 2 2 2 2 2 2 2 2 2 2 2 2 2 2 2 2 2 2 2 2 2 2 2 2 2 2 2 2 2 2 2 2 2 2\n",
            " 2 2 2 2 2 2 2]\n"
          ]
        }
      ]
    },
    {
      "cell_type": "code",
      "metadata": {
        "colab": {
          "base_uri": "https://localhost:8080/"
        },
        "id": "KBAvUnZTZEVY",
        "outputId": "470104f6-2ab9-40fd-bc6e-f9cc65a6d59c"
      },
      "source": [
        "print('Metrics for Test Samples:-')\n",
        "printMetrics(model_p, test_X, test_Y)"
      ],
      "execution_count": null,
      "outputs": [
        {
          "output_type": "stream",
          "name": "stdout",
          "text": [
            "Metrics for Test Samples:-\n",
            "\n",
            "OverAll Accuracy: 91.09%\n",
            "Precision for class 1: 100.00%\n",
            "Precision for class 2: 91.03%\n",
            "Precision for class 3: 0.00%\n",
            "\n",
            "Recall for class 1: 13.33%\n",
            "Recall for class 2: 100.00%\n",
            "Recall for class 3: 0.00%\n",
            "\n",
            " [2 2 2 2 2 2 2 2 2 2 2 2 2 2 2 2 2 2 2 2 2 2 2 2 2 2 2 2 2 2 2 2 2 2 2 2 2\n",
            " 2 2 2 2 2 2 2 2 2 2 2 2 2 2 2 2 2 2 2 2 2 2 2 2 2 2 2 2 2 2 2 2 2 2 2 2 2\n",
            " 2 2 2 2 2 2 2 2 2 2 2 2 2 2 2 2 2 2 2 2 2 2 2 2 2 2 2 2 2 2 2 2 2 2 2 2 2\n",
            " 2 2 2 2 2 2 2 2 2 2 2 2 2 2 2 2 2 2 2 2 2 2 2 2 2 2 2 2 2 2 2 2 2 2 2 2 2\n",
            " 2 2 2 2 2 2 2 2 2 2 2 2 2 2 2 2 2 2 2 2 2 2 2 2 2 2 2 2 2 2 2 2 2 2 2 2 2\n",
            " 2 2 2 2 2 2 2 2 2 2 2 2 2 2 2 2 2 2 2 2 2 2 2 2 2 1 2 2 2 2 2 2 2 2 2 2 2\n",
            " 2 2 2 2 2 2 2 2 2 2 2 2 2 2 2 2 2 2 2 2 2 1 2 2 2 2 2 2 2 2 2 2 2 2 2 2 2\n",
            " 2 2 2 2 2 2 2 2 2 2 2 2 2 2 2 2 2 2 2 2 2 2 2 2 2 2 2 2 2 2 2 2 2 2 2 2 2\n",
            " 2 2 2 2 2 2 2]\n"
          ]
        }
      ]
    },
    {
      "cell_type": "code",
      "metadata": {
        "colab": {
          "base_uri": "https://localhost:8080/"
        },
        "id": "kBwa69hz5FAS",
        "outputId": "718037ff-3dbe-4a69-871b-a1cb0f8a7fde"
      },
      "source": [
        "printMetrics(model_p, np.array(driv_df[features]), np.array(driv_df['label']))"
      ],
      "execution_count": null,
      "outputs": [
        {
          "output_type": "stream",
          "name": "stdout",
          "text": [
            "\n",
            "OverAll Accuracy: 92.90%\n",
            "Precision for class 1: 94.74%\n",
            "Precision for class 2: 92.84%\n",
            "Precision for class 3: 0.00%\n",
            "\n",
            "Recall for class 1: 66.67%\n",
            "Recall for class 2: 99.82%\n",
            "Recall for class 3: 0.00%\n",
            "\n",
            " [2 2 2 2 2 2 2 2 2 2 2 2 2 2 2 2 2 2 2 2 2 2 2 2 2 2 2 1 1 1 1 2 2 2 2 2 2\n",
            " 2 2 2 2 2 2 2 2 2 2 2 2 2 2 2 2 2 2 2 2 2 2 2 2 2 2 2 2 2 2 2 2 2 2 2 2 2\n",
            " 2 2 2 2 2 2 2 2 2 2 2 2 2 2 2 2 2 2 2 2 2 2 2 2 2 2 2 2 2 2 2 2 2 2 2 2 2\n",
            " 2 2 2 2 2 2 2 2 2 2 2 2 2 2 2 2 2 2 2 2 2 2 2 2 2 2 2 2 2 2 2 2 2 2 2 2 2\n",
            " 2 2 2 2 2 2 2 2 2 2 2 2 2 2 2 2 2 2 2 2 2 2 2 2 2 2 2 2 2 2 2 2 2 2 2 2 2\n",
            " 2 2 2 2 2 2 2 2 2 2 2 2 2 2 2 2 2 2 2 2 2 2 2 2 2 2 2 2 2 2 2 2 2 2 2 2 2\n",
            " 2 2 2 2 2 2 2 2 2 2 2 2 2 2 2 2 2 2 2 2 2 2 2 2 2 2 2 2 2 2 2 2 2 2 2 2 2\n",
            " 2 2 2 2 2 2 2 2 2 2 2 2 2 2 2 2 2 2 2 2 2 2 2 2 2 2 2 2 2 2 2 2 2 2 2 2 2\n",
            " 2 2 2 2 2 2 2 2 2 2 2 2 2 2 2 2 2 2 2 1 2 1 1 1 1 1 1 1 1 1 2 2 2 2 2 2 2\n",
            " 2 2 2 2 2 2 2 2 2 2 2 2 2 2 2 2 2 2 2 2 2 2 2 2 2 2 2 2 2 2 2 2 2 2 2 2 2\n",
            " 2 2 2 2 2 2 2 2 2 2 2 2 2 2 2 2 2 1 1 1 2 2 2 2 2 2 2 2 2 2 2 2 2 2 2 2 2\n",
            " 2 2 2 2 2 2 2 2 2 2 2 2 2 2 2 2 2 2 2 2 2 2 2 2 2 2 2 2 2 2 2 2 2 2 2 2 2\n",
            " 2 2 2 2 2 2 2 2 2 2 2 2 2 2 2 2 2 2 2 2 2 2 2 2 2 2 2 2 2 2 2 2 2 2 2 2 2\n",
            " 2 2 2 2 2 2 2 2 2 2 2 2 2 2 2 2 2 2 2 2 2 2 2 2 2 2 2 2 2 2 2 2 2 2 2 2 2\n",
            " 2 2 2 2 2 2 2 2 2 2 2 2 2 2 2 2 2 2 2 2 2 2 2 2 2 2 2 2 2 2 2 2 2 2 2 2 2\n",
            " 2 2 2 2 1 2 2 2 2 2 2 2 2 2 2 2 2 2 2 2 2 2 2 2 2 2 2 2 2 2 2 2 2 2 2 2 2\n",
            " 2 2 2 2 2 2 2 2 2 2 2 1 2 2]\n"
          ]
        }
      ]
    },
    {
      "cell_type": "markdown",
      "metadata": {
        "id": "_F7p77pZ0T7P"
      },
      "source": [
        "Single Layer Perceptron\n"
      ]
    },
    {
      "cell_type": "code",
      "metadata": {
        "id": "vhVj14Nk0XxS"
      },
      "source": [
        "def oneHotEncoding(df, label_name, label, target):\n",
        "    for i in range(len(label)):\n",
        "        df[label_name[i]] = pd.Series(createY(df[target], label[i]))"
      ],
      "execution_count": null,
      "outputs": []
    },
    {
      "cell_type": "code",
      "metadata": {
        "id": "vnt97D6102j9"
      },
      "source": [
        "def SLP(train_X, train_Y, alpha, ro, max_epoch):\n",
        "    length = len(train_X)\n",
        "    deg = len(train_X[0])\n",
        "    no_of_class = len(train_Y[0])\n",
        "\n",
        "    weight = np.zeros((no_of_class, deg))\n",
        "    curr_loss = prev_loss = float(\"inf\")\n",
        "    hX = np.zeros(no_of_class)\n",
        "    loss = []\n",
        "    epoch = 0\n",
        "    for _ in range(max_epoch):\n",
        "        epoch += 1\n",
        "        enum = np.arange(length)\n",
        "        np.random.shuffle(enum)\n",
        "        curr_loss = 0\n",
        "        for i in enum:\n",
        "            # predict values\n",
        "            for j in range(no_of_class):\n",
        "                hX[j] = predict(weight[j], train_X[i])\n",
        "            # error calc\n",
        "            curr_loss += np.sum(np.square(hX - train_Y[i])) / 2\n",
        "            \n",
        "            # weight updation\n",
        "            for j in range(no_of_class):\n",
        "                for k in range(deg):\n",
        "                    weight[j][k] += alpha * (train_Y[i][j] - hX[j]) * train_X[i][k] * hX[j] * (1 - hX[j])\n",
        "\n",
        "        loss.append(curr_loss)\n",
        "        if abs(curr_loss - prev_loss) < ro:\n",
        "            break\n",
        "        prev_loss = curr_loss\n",
        "    print(\"No. of Epoch:\", epoch, \"\\tLoss:\", curr_loss)\n",
        "    plt.plot(np.arange(epoch), loss)\n",
        "    plt.show()\n",
        "    return weight"
      ],
      "execution_count": null,
      "outputs": []
    },
    {
      "cell_type": "code",
      "metadata": {
        "id": "9o-ORwKX03aO"
      },
      "source": [
        "label_name = ['Y1', 'Y2', 'Y3']\n",
        "label_value = [1, 2, 3]"
      ],
      "execution_count": null,
      "outputs": []
    },
    {
      "cell_type": "code",
      "metadata": {
        "id": "N1MqU7oc06rC"
      },
      "source": [
        "slp_driv_df = random_driv_df.copy()\n",
        "oneHotEncoding(slp_driv_df, label_name, label_value, 'label')\n",
        "\n",
        "slp_driv_X = normalize(np.array(slp_driv_df[features]))\n",
        "slp_driv_Y = np.array(slp_driv_df[label_name])\n",
        "slp_driv_label = np.array(slp_driv_df['label'])\n",
        "\n",
        "train_X, test_X = np.split(slp_driv_X, [int(.5*len(slp_driv_X))])\n",
        "train_Y, test_Y = np.split(slp_driv_Y, [int(.5*len(slp_driv_Y))])\n",
        "train_label, test_label = np.split(slp_driv_label, [int(.5*len(slp_driv_label))])"
      ],
      "execution_count": null,
      "outputs": []
    },
    {
      "cell_type": "code",
      "metadata": {
        "colab": {
          "base_uri": "https://localhost:8080/"
        },
        "id": "rJULZgrZ1F6j",
        "outputId": "ae92d52f-0e93-4e5f-ab9e-c053e63d6070"
      },
      "source": [
        "alpha = 0.1\n",
        "ro = 1e-6\n",
        "max_epoch = 1000\n",
        "\n",
        "model_s = SLP(train_X, train_Y, alpha, ro, max_epoch)"
      ],
      "execution_count": null,
      "outputs": [
        {
          "output_type": "stream",
          "name": "stdout",
          "text": [
            "No. of Epoch: 243 \tLoss: 30.299422950750046\n"
          ]
        },
        {
          "output_type": "display_data",
          "data": {
            "image/png": "[encoded data removed]",
            "text/plain": [
              "<Figure size 432x288 with 1 Axes>"
            ]
          },
          "metadata": {
            "needs_background": "light"
          }
        }
      ]
    },
    {
      "cell_type": "code",
      "metadata": {
        "colab": {
          "base_uri": "https://localhost:8080/"
        },
        "id": "_YRnkjNp1Qvi",
        "outputId": "13bc73bc-4644-4fc3-8cfb-8ef8de5ec378"
      },
      "source": [
        "printMetrics(model_s, test_X, test_label)"
      ],
      "execution_count": null,
      "outputs": [
        {
          "output_type": "stream",
          "name": "stdout",
          "text": [
            "\n",
            "OverAll Accuracy: 90.43%\n",
            "Precision for class 1: 0.00%\n",
            "Precision for class 2: 90.43%\n",
            "Precision for class 3: 0.00%\n",
            "\n",
            "Recall for class 1: 0.00%\n",
            "Recall for class 2: 100.00%\n",
            "Recall for class 3: 0.00%\n",
            "\n",
            " [2 2 2 2 2 2 2 2 2 2 2 2 2 2 2 2 2 2 2 2 2 2 2 2 2 2 2 2 2 2 2 2 2 2 2 2 2\n",
            " 2 2 2 2 2 2 2 2 2 2 2 2 2 2 2 2 2 2 2 2 2 2 2 2 2 2 2 2 2 2 2 2 2 2 2 2 2\n",
            " 2 2 2 2 2 2 2 2 2 2 2 2 2 2 2 2 2 2 2 2 2 2 2 2 2 2 2 2 2 2 2 2 2 2 2 2 2\n",
            " 2 2 2 2 2 2 2 2 2 2 2 2 2 2 2 2 2 2 2 2 2 2 2 2 2 2 2 2 2 2 2 2 2 2 2 2 2\n",
            " 2 2 2 2 2 2 2 2 2 2 2 2 2 2 2 2 2 2 2 2 2 2 2 2 2 2 2 2 2 2 2 2 2 2 2 2 2\n",
            " 2 2 2 2 2 2 2 2 2 2 2 2 2 2 2 2 2 2 2 2 2 2 2 2 2 2 2 2 2 2 2 2 2 2 2 2 2\n",
            " 2 2 2 2 2 2 2 2 2 2 2 2 2 2 2 2 2 2 2 2 2 2 2 2 2 2 2 2 2 2 2 2 2 2 2 2 2\n",
            " 2 2 2 2 2 2 2 2 2 2 2 2 2 2 2 2 2 2 2 2 2 2 2 2 2 2 2 2 2 2 2 2 2 2 2 2 2\n",
            " 2 2 2 2 2 2 2]\n"
          ]
        }
      ]
    },
    {
      "cell_type": "code",
      "metadata": {
        "colab": {
          "base_uri": "https://localhost:8080/"
        },
        "id": "MtUK_6La4v5E",
        "outputId": "a834c41c-ef60-4a03-f1a5-122b44c6a2e1"
      },
      "source": [
        "printMetrics(model_s, np.array(driv_df[features]), np.array(driv_df['label']))"
      ],
      "execution_count": null,
      "outputs": [
        {
          "output_type": "stream",
          "name": "stdout",
          "text": [
            "\n",
            "OverAll Accuracy: 90.10%\n",
            "Precision for class 1: 0.00%\n",
            "Precision for class 2: 90.10%\n",
            "Precision for class 3: 0.00%\n",
            "\n",
            "Recall for class 1: 0.00%\n",
            "Recall for class 2: 100.00%\n",
            "Recall for class 3: 0.00%\n",
            "\n",
            " [2 2 2 2 2 2 2 2 2 2 2 2 2 2 2 2 2 2 2 2 2 2 2 2 2 2 2 2 2 2 2 2 2 2 2 2 2\n",
            " 2 2 2 2 2 2 2 2 2 2 2 2 2 2 2 2 2 2 2 2 2 2 2 2 2 2 2 2 2 2 2 2 2 2 2 2 2\n",
            " 2 2 2 2 2 2 2 2 2 2 2 2 2 2 2 2 2 2 2 2 2 2 2 2 2 2 2 2 2 2 2 2 2 2 2 2 2\n",
            " 2 2 2 2 2 2 2 2 2 2 2 2 2 2 2 2 2 2 2 2 2 2 2 2 2 2 2 2 2 2 2 2 2 2 2 2 2\n",
            " 2 2 2 2 2 2 2 2 2 2 2 2 2 2 2 2 2 2 2 2 2 2 2 2 2 2 2 2 2 2 2 2 2 2 2 2 2\n",
            " 2 2 2 2 2 2 2 2 2 2 2 2 2 2 2 2 2 2 2 2 2 2 2 2 2 2 2 2 2 2 2 2 2 2 2 2 2\n",
            " 2 2 2 2 2 2 2 2 2 2 2 2 2 2 2 2 2 2 2 2 2 2 2 2 2 2 2 2 2 2 2 2 2 2 2 2 2\n",
            " 2 2 2 2 2 2 2 2 2 2 2 2 2 2 2 2 2 2 2 2 2 2 2 2 2 2 2 2 2 2 2 2 2 2 2 2 2\n",
            " 2 2 2 2 2 2 2 2 2 2 2 2 2 2 2 2 2 2 2 2 2 2 2 2 2 2 2 2 2 2 2 2 2 2 2 2 2\n",
            " 2 2 2 2 2 2 2 2 2 2 2 2 2 2 2 2 2 2 2 2 2 2 2 2 2 2 2 2 2 2 2 2 2 2 2 2 2\n",
            " 2 2 2 2 2 2 2 2 2 2 2 2 2 2 2 2 2 2 2 2 2 2 2 2 2 2 2 2 2 2 2 2 2 2 2 2 2\n",
            " 2 2 2 2 2 2 2 2 2 2 2 2 2 2 2 2 2 2 2 2 2 2 2 2 2 2 2 2 2 2 2 2 2 2 2 2 2\n",
            " 2 2 2 2 2 2 2 2 2 2 2 2 2 2 2 2 2 2 2 2 2 2 2 2 2 2 2 2 2 2 2 2 2 2 2 2 2\n",
            " 2 2 2 2 2 2 2 2 2 2 2 2 2 2 2 2 2 2 2 2 2 2 2 2 2 2 2 2 2 2 2 2 2 2 2 2 2\n",
            " 2 2 2 2 2 2 2 2 2 2 2 2 2 2 2 2 2 2 2 2 2 2 2 2 2 2 2 2 2 2 2 2 2 2 2 2 2\n",
            " 2 2 2 2 2 2 2 2 2 2 2 2 2 2 2 2 2 2 2 2 2 2 2 2 2 2 2 2 2 2 2 2 2 2 2 2 2\n",
            " 2 2 2 2 2 2 2 2 2 2 2 2 2 2]\n"
          ]
        },
        {
          "output_type": "stream",
          "name": "stderr",
          "text": [
            "/usr/local/lib/python3.7/dist-packages/ipykernel_launcher.py:7: RuntimeWarning: overflow encountered in exp\n",
            "  import sys\n"
          ]
        }
      ]
    },
    {
      "cell_type": "markdown",
      "metadata": {
        "id": "8x0OaNMz3-NH"
      },
      "source": [
        "SLP K-Fold"
      ]
    },
    {
      "cell_type": "code",
      "metadata": {
        "colab": {
          "base_uri": "https://localhost:8080/",
          "height": 1000
        },
        "id": "L62zh3lN1VMt",
        "outputId": "9b8313b1-fff4-4504-dbf2-f9c0e127c4d2"
      },
      "source": [
        "kf = KFold(n_splits=5)\n",
        "\n",
        "alpha = 0.1\n",
        "ro = 1e-6\n",
        "max_epoch = 1000\n",
        "\n",
        "\n",
        "precision_arr = np.zeros(3)\n",
        "recall_arr = np.zeros(3)\n",
        "\n",
        "fold = 0\n",
        "for train_index, test_index in kf.split(slp_driv_X):\n",
        "    fold += 1\n",
        "    print(\"Fold: \", fold)\n",
        "    \n",
        "    X_train, X_test = slp_driv_X[train_index], slp_driv_X[test_index]\n",
        "    y_train, y_test = slp_driv_Y[train_index], slp_driv_Y[test_index]\n",
        "    label_train, label_test = slp_driv_label[train_index], slp_driv_label[test_index]\n",
        "\n",
        "    model = SLP(X_train, y_train, alpha, ro, max_epoch)\n",
        "    y_predicted = predictClass(model, X_test)\n",
        "    print(\"\\nOverAll Accuracy: {:.2%}\".format(accuracy(y_predicted, label_test)))\n",
        "\n",
        "    print()\n",
        "    for i in range(3):\n",
        "        x = precision(y_predicted, label_test, i+1)\n",
        "        precision_arr[i] += x\n",
        "        print(\"Precision for class {}: {:.2%}\".format(i, x))\n",
        "\n",
        "    print()\n",
        "    for i in range(3):\n",
        "        x = recall(y_predicted, label_test, i+1)\n",
        "        recall_arr[i] += x\n",
        "        print(\"Recall for class {}: {:.2%}\".format(i, x))\n",
        "    print()"
      ],
      "execution_count": null,
      "outputs": [
        {
          "output_type": "stream",
          "name": "stdout",
          "text": [
            "Fold:  1\n",
            "No. of Epoch: 146 \tLoss: 38.32186953169349\n"
          ]
        },
        {
          "output_type": "display_data",
          "data": {
            "image/png": "[encoded data removed]",
            "text/plain": [
              "<Figure size 432x288 with 1 Axes>"
            ]
          },
          "metadata": {
            "needs_background": "light"
          }
        },
        {
          "output_type": "stream",
          "name": "stdout",
          "text": [
            "\n",
            "OverAll Accuracy: 92.62%\n",
            "\n",
            "Precision for class 0: 0.00%\n",
            "Precision for class 1: 92.62%\n",
            "Precision for class 2: 0.00%\n",
            "\n",
            "Recall for class 0: 0.00%\n",
            "Recall for class 1: 100.00%\n",
            "Recall for class 2: 0.00%\n",
            "\n",
            "Fold:  2\n",
            "No. of Epoch: 1000 \tLoss: 46.947115062637266\n"
          ]
        },
        {
          "output_type": "display_data",
          "data": {
            "image/png": "[encoded data removed]",
            "text/plain": [
              "<Figure size 432x288 with 1 Axes>"
            ]
          },
          "metadata": {
            "needs_background": "light"
          }
        },
        {
          "output_type": "stream",
          "name": "stdout",
          "text": [
            "\n",
            "OverAll Accuracy: 85.95%\n",
            "\n",
            "Precision for class 0: 0.00%\n",
            "Precision for class 1: 85.95%\n",
            "Precision for class 2: 0.00%\n",
            "\n",
            "Recall for class 0: 0.00%\n",
            "Recall for class 1: 100.00%\n",
            "Recall for class 2: 0.00%\n",
            "\n",
            "Fold:  3\n",
            "No. of Epoch: 73 \tLoss: 41.88565766933772\n"
          ]
        },
        {
          "output_type": "display_data",
          "data": {
            "image/png": "[encoded data removed]",
            "text/plain": [
              "<Figure size 432x288 with 1 Axes>"
            ]
          },
          "metadata": {
            "needs_background": "light"
          }
        },
        {
          "output_type": "stream",
          "name": "stdout",
          "text": [
            "\n",
            "OverAll Accuracy: 93.39%\n",
            "\n",
            "Precision for class 0: 0.00%\n",
            "Precision for class 1: 93.39%\n",
            "Precision for class 2: 0.00%\n",
            "\n",
            "Recall for class 0: 0.00%\n",
            "Recall for class 1: 100.00%\n",
            "Recall for class 2: 0.00%\n",
            "\n",
            "Fold:  4\n",
            "No. of Epoch: 1000 \tLoss: 48.66540798347442\n"
          ]
        },
        {
          "output_type": "display_data",
          "data": {
            "image/png": "[encoded data removed]",
            "text/plain": [
              "<Figure size 432x288 with 1 Axes>"
            ]
          },
          "metadata": {
            "needs_background": "light"
          }
        },
        {
          "output_type": "stream",
          "name": "stdout",
          "text": [
            "\n",
            "OverAll Accuracy: 89.26%\n",
            "\n",
            "Precision for class 0: 0.00%\n",
            "Precision for class 1: 89.26%\n",
            "Precision for class 2: 0.00%\n",
            "\n",
            "Recall for class 0: 0.00%\n",
            "Recall for class 1: 100.00%\n",
            "Recall for class 2: 0.00%\n",
            "\n",
            "Fold:  5\n",
            "No. of Epoch: 1000 \tLoss: 46.149841267510254\n"
          ]
        },
        {
          "output_type": "display_data",
          "data": {
            "image/png": "[encoded data removed]",
            "text/plain": [
              "<Figure size 432x288 with 1 Axes>"
            ]
          },
          "metadata": {
            "needs_background": "light"
          }
        },
        {
          "output_type": "stream",
          "name": "stdout",
          "text": [
            "\n",
            "OverAll Accuracy: 89.26%\n",
            "\n",
            "Precision for class 0: 0.00%\n",
            "Precision for class 1: 89.26%\n",
            "Precision for class 2: 0.00%\n",
            "\n",
            "Recall for class 0: 0.00%\n",
            "Recall for class 1: 100.00%\n",
            "Recall for class 2: 0.00%\n",
            "\n"
          ]
        }
      ]
    },
    {
      "cell_type": "code",
      "metadata": {
        "colab": {
          "base_uri": "https://localhost:8080/"
        },
        "id": "9o0Zm17E1gkt",
        "outputId": "518430b5-d6a1-454b-8175-950100776f5b"
      },
      "source": [
        "for i in range(3):\n",
        "    print(\"Average Precision of Class {}: {:.2%}\".format(i+1, precision_arr[i] / 5))\n",
        "\n",
        "print()\n",
        "for i in range(3):\n",
        "    print(\"Average Recall of Class {}: {:.2%}\".format(i+1, recall_arr[i] / 5))"
      ],
      "execution_count": null,
      "outputs": [
        {
          "output_type": "stream",
          "name": "stdout",
          "text": [
            "Average Precision of Class 1: 0.00%\n",
            "Average Precision of Class 2: 90.09%\n",
            "Average Precision of Class 3: 0.00%\n",
            "\n",
            "Average Recall of Class 1: 0.00%\n",
            "Average Recall of Class 2: 100.00%\n",
            "Average Recall of Class 3: 0.00%\n"
          ]
        }
      ]
    },
    {
      "cell_type": "code",
      "metadata": {
        "id": "i2DXSWuy2u2-"
      },
      "source": [],
      "execution_count": null,
      "outputs": []
    }
  ]
}